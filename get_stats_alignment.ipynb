{
 "cells": [
  {
   "cell_type": "code",
   "execution_count": 3,
   "metadata": {},
   "outputs": [],
   "source": [
    "from Bio import SeqIO\n",
    "from Bio.Seq import Seq\n",
    "import csv\n",
    "def get_fasta_sequences(file_name: str) -> list:\n",
    "    with open(file_name, 'r') as handler:\n",
    "        sequences = list(SeqIO.parse(handler, 'fasta'))\n",
    "        return sequences\n",
    "\n",
    "def compare_reference(sequence: str, reference: str):\n",
    "    gaps = 0\n",
    "    n_s = 0\n",
    "    miss_match = 0\n",
    "    matches = 0\n",
    "    for idx, nt in enumerate(sequence):\n",
    "        if idx < len(reference):\n",
    "            if nt == reference[idx]:\n",
    "                matches += 1\n",
    "            elif nt == 'N':\n",
    "                n_s += 1\n",
    "            elif nt == '-':\n",
    "                gaps += 1\n",
    "            else:\n",
    "                miss_match += 1\n",
    "    return [matches, miss_match, n_s, gaps]"
   ]
  },
  {
   "cell_type": "code",
   "execution_count": 4,
   "metadata": {},
   "outputs": [
    {
     "ename": "FileNotFoundError",
     "evalue": "[Errno 2] No such file or directory: 'snippy_consensus.fasta'",
     "output_type": "error",
     "traceback": [
      "\u001b[0;31m---------------------------------------------------------------------------\u001b[0m",
      "\u001b[0;31mFileNotFoundError\u001b[0m                         Traceback (most recent call last)",
      "Cell \u001b[0;32mIn[4], line 49\u001b[0m\n\u001b[1;32m     46\u001b[0m             writer\u001b[39m.\u001b[39mwriterow([key, \u001b[39m\"\u001b[39m\u001b[39msnippy\u001b[39m\u001b[39m\"\u001b[39m, value[\u001b[39m\"\u001b[39m\u001b[39msnippy\u001b[39m\u001b[39m\"\u001b[39m][\u001b[39m0\u001b[39m], value[\u001b[39m\"\u001b[39m\u001b[39msnippy\u001b[39m\u001b[39m\"\u001b[39m][\u001b[39m1\u001b[39m], value[\u001b[39m\"\u001b[39m\u001b[39msnippy\u001b[39m\u001b[39m\"\u001b[39m][\u001b[39m2\u001b[39m], value[\u001b[39m\"\u001b[39m\u001b[39msnippy\u001b[39m\u001b[39m\"\u001b[39m][\u001b[39m3\u001b[39m]])\n\u001b[1;32m     47\u001b[0m             writer\u001b[39m.\u001b[39mwriterow([key, \u001b[39m\"\u001b[39m\u001b[39miVar\u001b[39m\u001b[39m\"\u001b[39m, value[\u001b[39m\"\u001b[39m\u001b[39miVar\u001b[39m\u001b[39m\"\u001b[39m][\u001b[39m0\u001b[39m], value[\u001b[39m\"\u001b[39m\u001b[39miVar\u001b[39m\u001b[39m\"\u001b[39m][\u001b[39m1\u001b[39m], value[\u001b[39m\"\u001b[39m\u001b[39miVar\u001b[39m\u001b[39m\"\u001b[39m][\u001b[39m2\u001b[39m], value[\u001b[39m\"\u001b[39m\u001b[39miVar\u001b[39m\u001b[39m\"\u001b[39m][\u001b[39m3\u001b[39m]])\n\u001b[0;32m---> 49\u001b[0m main()\n",
      "Cell \u001b[0;32mIn[4], line 5\u001b[0m, in \u001b[0;36mmain\u001b[0;34m()\u001b[0m\n\u001b[1;32m      3\u001b[0m iVar_file \u001b[39m=\u001b[39m \u001b[39m\"\u001b[39m\u001b[39miVar_consensus.fasta\u001b[39m\u001b[39m\"\u001b[39m\n\u001b[1;32m      4\u001b[0m reference_file \u001b[39m=\u001b[39m \u001b[39m\"\u001b[39m\u001b[39muser/references/A_H3N2_A_Victoria_361_2011.fasta\u001b[39m\u001b[39m\"\u001b[39m\n\u001b[0;32m----> 5\u001b[0m snippy \u001b[39m=\u001b[39m get_fasta_sequences(snippy_file)\n\u001b[1;32m      6\u001b[0m iVar \u001b[39m=\u001b[39m get_fasta_sequences(iVar_file)\n\u001b[1;32m      7\u001b[0m reference \u001b[39m=\u001b[39m get_fasta_sequences(reference_file)\n",
      "Cell \u001b[0;32mIn[3], line 5\u001b[0m, in \u001b[0;36mget_fasta_sequences\u001b[0;34m(file_name)\u001b[0m\n\u001b[1;32m      4\u001b[0m \u001b[39mdef\u001b[39;00m \u001b[39mget_fasta_sequences\u001b[39m(file_name: \u001b[39mstr\u001b[39m) \u001b[39m-\u001b[39m\u001b[39m>\u001b[39m \u001b[39mlist\u001b[39m:\n\u001b[0;32m----> 5\u001b[0m     \u001b[39mwith\u001b[39;00m \u001b[39mopen\u001b[39;49m(file_name, \u001b[39m'\u001b[39;49m\u001b[39mr\u001b[39;49m\u001b[39m'\u001b[39;49m) \u001b[39mas\u001b[39;00m handler:\n\u001b[1;32m      6\u001b[0m         sequences \u001b[39m=\u001b[39m \u001b[39mlist\u001b[39m(SeqIO\u001b[39m.\u001b[39mparse(handler, \u001b[39m'\u001b[39m\u001b[39mfasta\u001b[39m\u001b[39m'\u001b[39m))\n\u001b[1;32m      7\u001b[0m         \u001b[39mreturn\u001b[39;00m sequences\n",
      "File \u001b[0;32m~/mambaforge/envs/insaflu/lib/python3.10/site-packages/IPython/core/interactiveshell.py:282\u001b[0m, in \u001b[0;36m_modified_open\u001b[0;34m(file, *args, **kwargs)\u001b[0m\n\u001b[1;32m    275\u001b[0m \u001b[39mif\u001b[39;00m file \u001b[39min\u001b[39;00m {\u001b[39m0\u001b[39m, \u001b[39m1\u001b[39m, \u001b[39m2\u001b[39m}:\n\u001b[1;32m    276\u001b[0m     \u001b[39mraise\u001b[39;00m \u001b[39mValueError\u001b[39;00m(\n\u001b[1;32m    277\u001b[0m         \u001b[39mf\u001b[39m\u001b[39m\"\u001b[39m\u001b[39mIPython won\u001b[39m\u001b[39m'\u001b[39m\u001b[39mt let you open fd=\u001b[39m\u001b[39m{\u001b[39;00mfile\u001b[39m}\u001b[39;00m\u001b[39m by default \u001b[39m\u001b[39m\"\u001b[39m\n\u001b[1;32m    278\u001b[0m         \u001b[39m\"\u001b[39m\u001b[39mas it is likely to crash IPython. If you know what you are doing, \u001b[39m\u001b[39m\"\u001b[39m\n\u001b[1;32m    279\u001b[0m         \u001b[39m\"\u001b[39m\u001b[39myou can use builtins\u001b[39m\u001b[39m'\u001b[39m\u001b[39m open.\u001b[39m\u001b[39m\"\u001b[39m\n\u001b[1;32m    280\u001b[0m     )\n\u001b[0;32m--> 282\u001b[0m \u001b[39mreturn\u001b[39;00m io_open(file, \u001b[39m*\u001b[39;49margs, \u001b[39m*\u001b[39;49m\u001b[39m*\u001b[39;49mkwargs)\n",
      "\u001b[0;31mFileNotFoundError\u001b[0m: [Errno 2] No such file or directory: 'snippy_consensus.fasta'"
     ]
    }
   ],
   "source": [
    "def main():\n",
    "    snippy_file = 'snippy_consensus.fasta'\n",
    "    iVar_file = \"iVar_consensus.fasta\"\n",
    "    reference_file = \"user/references/A_H3N2_A_Victoria_361_2011.fasta\"\n",
    "    snippy = get_fasta_sequences(snippy_file)\n",
    "    iVar = get_fasta_sequences(iVar_file)\n",
    "    reference = get_fasta_sequences(reference_file)\n",
    "    \n",
    "    dictionary = {}\n",
    "    # Get the keys in dictionary\n",
    "    for identifier in snippy:\n",
    "        dictionary[identifier.id] = {\"snippy\":[],\"iVar\":[]}\n",
    "    \n",
    "    # Analyse Snippy Consensus\n",
    "    if len(reference) == 1:\n",
    "        for entry in snippy:\n",
    "            dictionary[entry.id][\"snippy\"] = compare_reference(entry.seq, reference[0].seq)\n",
    "    else:\n",
    "        n_locus = len(reference) - 1\n",
    "        current_locus = 0\n",
    "        for entry in snippy:\n",
    "            dictionary[entry.id][\"snippy\"] = compare_reference(entry.seq, reference[current_locus].seq)\n",
    "            if current_locus < n_locus:\n",
    "                current_locus += 1\n",
    "            else:\n",
    "                current_locus = 0\n",
    "    \n",
    "    if len(reference) == 1:\n",
    "        for entry in iVar:\n",
    "            dictionary[entry.id][\"iVar\"] = compare_reference(entry.seq, reference[0].seq)\n",
    "    else:\n",
    "        n_locus = len(reference) - 1\n",
    "        current_locus = 0\n",
    "        for entry in iVar:\n",
    "            dictionary[entry.id][\"iVar\"] = compare_reference(entry.seq, reference[current_locus].seq)\n",
    "            if current_locus < n_locus:\n",
    "                current_locus += 1\n",
    "            else:\n",
    "                current_locus = 0\n",
    "    \n",
    "    header = [\"Sample\", \"Tool\", \"Matches\", \"Missmatch\", \"N\", \"Gaps(-)\"]\n",
    "    with open(\"output.csv\", 'w') as handler:\n",
    "        writer = csv.writer(handler)\n",
    "        writer.writerow(header)\n",
    "        for key, value in dictionary.items():\n",
    "            writer.writerow([key, \"snippy\", value[\"snippy\"][0], value[\"snippy\"][1], value[\"snippy\"][2], value[\"snippy\"][3]])\n",
    "            writer.writerow([key, \"iVar\", value[\"iVar\"][0], value[\"iVar\"][1], value[\"iVar\"][2], value[\"iVar\"][3]])\n",
    "    \n",
    "main()"
   ]
  }
 ],
 "metadata": {
  "kernelspec": {
   "display_name": "insaflu",
   "language": "python",
   "name": "python3"
  },
  "language_info": {
   "codemirror_mode": {
    "name": "ipython",
    "version": 3
   },
   "file_extension": ".py",
   "mimetype": "text/x-python",
   "name": "python",
   "nbconvert_exporter": "python",
   "pygments_lexer": "ipython3",
   "version": "3.10.9"
  },
  "orig_nbformat": 4,
  "vscode": {
   "interpreter": {
    "hash": "1358ab5cc9fad31f5aa8938f4d80c7fc1c7ab655fec6b753e75fda91ebbb6fc0"
   }
  }
 },
 "nbformat": 4,
 "nbformat_minor": 2
}
